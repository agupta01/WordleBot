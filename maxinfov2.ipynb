{
 "cells": [
  {
   "cell_type": "code",
   "execution_count": 46,
   "id": "3f563ff1",
   "metadata": {},
   "outputs": [],
   "source": [
    "from game import WordleGame\n",
    "from solver import * \n",
    "import numpy as np\n",
    "from tqdm import tqdm, trange\n",
    "import matplotlib.pyplot as plt\n",
    "import re\n",
    "from matplotlib.ticker import MultipleLocator\n",
    "from joblib import Parallel, delayed\n",
    "\n",
    "\n",
    "%matplotlib inline\n",
    "\n",
    "%config InlineBackend.figure_format='retina'"
   ]
  },
  {
   "cell_type": "code",
   "execution_count": 2,
   "id": "731e533b",
   "metadata": {},
   "outputs": [],
   "source": [
    "guessable = open(\"guessable.csv\").read().splitlines()\n",
    "N = len(guessable)"
   ]
  },
  {
   "cell_type": "code",
   "execution_count": null,
   "id": "cf608b10",
   "metadata": {},
   "outputs": [],
   "source": [
    "def make_pi(guessable, target):\n",
    "    # pi is N x 2315 x 5 where pi[i,j] is reward for guessing i when j is correct\n",
    "    N = len(guessable)\n",
    "    pi = np.zeros(shape=(N, 2315, 5))\n",
    "    for j in trange(2315):\n",
    "        w = WordleGame(word=target[j])\n",
    "        for i in range(N):\n",
    "            if guessable[i] == target[j]:\n",
    "                pi[i,j] = np.ones(5)\n",
    "            else:\n",
    "                pi[i,j] = w.turn(guessable[i])\n",
    "    return pi"
   ]
  },
  {
   "cell_type": "code",
   "execution_count": null,
   "id": "8daa70c3",
   "metadata": {},
   "outputs": [],
   "source": [
    "pi_full = make_pi(guessable, words)"
   ]
  },
  {
   "cell_type": "code",
   "execution_count": null,
   "id": "14ca2d78",
   "metadata": {},
   "outputs": [],
   "source": [
    "pi_target = make_pi(words, words)"
   ]
  },
  {
   "cell_type": "code",
   "execution_count": 3,
   "id": "a4882939",
   "metadata": {},
   "outputs": [],
   "source": [
    "pi_target = np.load(\"pi_target.npy\")\n",
    "pi_full = np.load(\"pi_full.npy\")"
   ]
  },
  {
   "cell_type": "code",
   "execution_count": 14,
   "id": "3cabb545",
   "metadata": {},
   "outputs": [
    {
     "data": {
      "text/plain": [
       "'burry'"
      ]
     },
     "execution_count": 14,
     "metadata": {},
     "output_type": "execute_result"
    }
   ],
   "source": [
    "tau_full = pi_full.sum(axis=2)\n",
    "tau_target = pi_target.sum(axis=2)\n",
    "\n",
    "guessable[np.argmax(tau_full.sum(axis=0))]"
   ]
  },
  {
   "cell_type": "code",
   "execution_count": 6,
   "id": "a24dd36f",
   "metadata": {},
   "outputs": [
    {
     "data": {
      "text/plain": [
       "False"
      ]
     },
     "execution_count": 6,
     "metadata": {},
     "output_type": "execute_result"
    }
   ],
   "source": [
    "np.array_equal(tau_target.T, tau_target)"
   ]
  },
  {
   "cell_type": "code",
   "execution_count": 52,
   "id": "5dc3679c",
   "metadata": {},
   "outputs": [],
   "source": [
    "def maximum_information_v2_solver(game, tau_full, tau_target, mu=0.5):\n",
    "    \"\"\"\n",
    "    Solve game using maximum information v2 strategy.\n",
    "    \n",
    "    Use axis 1 (the explore axis) until reward exceeds mu, then \n",
    "    use axis 0 (the exploit axis)\n",
    "    \n",
    "    \"\"\"\n",
    "    word_mask_full = np.ones(shape=(N, 2315)) # 1 means word is still valid, 0 means it's not\n",
    "    word_mask_target = np.ones(shape=(2315, 2315))\n",
    "    letter_mask = [\".\"] * 5 # mask for each letter\n",
    "    poss = set() # required letters\n",
    "    result = []\n",
    "    while not game.solved:\n",
    "        # reduce tau by elementwise multiplying by word_mask\n",
    "        tau_full = np.multiply(tau_full, word_mask_full)\n",
    "        tau_target = np.multiply(tau_target, word_mask_target)\n",
    "        if (game.curr_step == 0) == (sum(result) <= mu):\n",
    "            # exploit mode\n",
    "            word_idx = np.argmax(tau_target.sum(axis=0))\n",
    "            guess = words[word_idx]\n",
    "        else:\n",
    "            # explore mode\n",
    "            word_idx = np.argmax(tau_full.sum(axis=1))\n",
    "            guess = guessable[word_idx]\n",
    "\n",
    "        result = game.turn(guess)\n",
    "        # update masks based on result\n",
    "        letter_mask, poss = update_mask(result, guess, letter_mask, poss)\n",
    "        word_mask_full = update_word_mask(word_mask_full, letter_mask, poss)\n",
    "        word_mask_target = update_word_mask(word_mask_target, letter_mask, poss)\n",
    "    \n",
    "    return game.score"
   ]
  },
  {
   "cell_type": "code",
   "execution_count": 53,
   "id": "cb398d90",
   "metadata": {},
   "outputs": [],
   "source": [
    "w = WordleGame(verbose=2)"
   ]
  },
  {
   "cell_type": "code",
   "execution_count": 54,
   "id": "c21a0d6e",
   "metadata": {},
   "outputs": [
    {
     "name": "stdout",
     "output_type": "stream",
     "text": [
      "stare => ⬛ ⬛ ⬛ ⬛ 🟩\n",
      "clone => ⬛ ⬛ 🟩 ⬛ 🟩\n",
      "biome => 🟩 🟩 🟩 🟩 🟩\n",
      "Wordle solved in 3 steps. Score: 3\n"
     ]
    },
    {
     "data": {
      "text/plain": [
       "3"
      ]
     },
     "execution_count": 54,
     "metadata": {},
     "output_type": "execute_result"
    }
   ],
   "source": [
    "maximum_information_v2_solver(w, tau_full, tau_target)"
   ]
  },
  {
   "cell_type": "code",
   "execution_count": 55,
   "id": "5cf48e8f",
   "metadata": {},
   "outputs": [
    {
     "name": "stdout",
     "output_type": "stream",
     "text": [
      "stare => ⬛ ⬛ ⬛ ⬛ 🟩\n",
      "clone => ⬛ ⬛ 🟩 ⬛ 🟩\n",
      "biome => 🟩 🟩 🟩 🟩 🟩\n",
      "Wordle solved in 3 steps. Score: 3\n"
     ]
    },
    {
     "data": {
      "text/plain": [
       "3"
      ]
     },
     "execution_count": 55,
     "metadata": {},
     "output_type": "execute_result"
    }
   ],
   "source": [
    "w.reset()\n",
    "maximum_information_solver(w, tau_target)"
   ]
  },
  {
   "cell_type": "code",
   "execution_count": 47,
   "id": "248a9fc9",
   "metadata": {},
   "outputs": [
    {
     "name": "stderr",
     "output_type": "stream",
     "text": [
      "[Parallel(n_jobs=-1)]: Using backend LokyBackend with 12 concurrent workers.\n",
      "[Parallel(n_jobs=-1)]: Done  17 tasks      | elapsed:   10.8s\n",
      "[Parallel(n_jobs=-1)]: Done 138 tasks      | elapsed:   57.7s\n",
      "[Parallel(n_jobs=-1)]: Done 341 tasks      | elapsed:  2.3min\n",
      "[Parallel(n_jobs=-1)]: Done 624 tasks      | elapsed:  4.1min\n",
      "[Parallel(n_jobs=-1)]: Done 989 tasks      | elapsed:  6.3min\n",
      "[Parallel(n_jobs=-1)]: Done 1434 tasks      | elapsed:  9.1min\n",
      "[Parallel(n_jobs=-1)]: Done 1961 tasks      | elapsed: 12.5min\n",
      "[Parallel(n_jobs=-1)]: Done 2315 out of 2315 | elapsed: 14.7min finished\n"
     ]
    }
   ],
   "source": [
    "def play_vs_steps(target_word):\n",
    "    game = WordleGame(word=target_word)\n",
    "    maximum_information_solver(game, tau_target)\n",
    "    v1_steps = game.curr_step\n",
    "    game.reset()\n",
    "    maximum_information_v2_solver(game, tau_full, tau_target)\n",
    "    v2_steps = game.curr_step\n",
    "    return v1_steps, v2_steps\n",
    "    \n",
    "steps = Parallel(n_jobs=-1, verbose=2)(delayed(play_vs_steps)(tw) for tw in words)"
   ]
  },
  {
   "cell_type": "code",
   "execution_count": 50,
   "id": "5bf234f4",
   "metadata": {},
   "outputs": [],
   "source": [
    "steps_v1 = list(map(lambda x: x[0], steps))\n",
    "steps_v2 = list(map(lambda x: x[1], steps))\n",
    "step_v1_cdf = [np.sum(np.array(steps_v1) <= i) / 2315 for i in range(max(steps_v1) + 1)]\n",
    "step_v2_cdf = [np.sum(np.array(steps_v2) <= i) / 2315 for i in range(max(steps_v2) + 1)]"
   ]
  },
  {
   "cell_type": "code",
   "execution_count": 61,
   "id": "0c362705",
   "metadata": {},
   "outputs": [
    {
     "data": {
      "text/plain": [
       "[0.0,\n",
       " 0.00043196544276457883,\n",
       " 0.05745140388768898,\n",
       " 0.4120950323974082,\n",
       " 0.8004319654427646,\n",
       " 0.9507559395248381,\n",
       " 0.988768898488121,\n",
       " 0.9982721382289417,\n",
       " 0.9995680345572354,\n",
       " 1.0]"
      ]
     },
     "execution_count": 61,
     "metadata": {},
     "output_type": "execute_result"
    }
   ],
   "source": [
    "step_v1_cdf"
   ]
  },
  {
   "cell_type": "code",
   "execution_count": 63,
   "id": "988ab626",
   "metadata": {},
   "outputs": [
    {
     "data": {
      "text/plain": [
       "<matplotlib.legend.Legend at 0x7fbe08e58710>"
      ]
     },
     "execution_count": 63,
     "metadata": {},
     "output_type": "execute_result"
    },
    {
     "data": {
      "image/png": "[encoded data removed]",
      "text/plain": [
       "<Figure size 1152x648 with 1 Axes>"
      ]
     },
     "metadata": {
      "image/png": {
       "height": 533,
       "width": 943
      },
      "needs_background": "light"
     },
     "output_type": "display_data"
    }
   ],
   "source": [
    "plt.figure(figsize=(16, 9))\n",
    "plt.xlabel(\"# steps to solve\")\n",
    "plt.ylabel(\"Proportion of Target Words Solved\")\n",
    "plt.scatter(list(range(len(step_v1_cdf))), step_v1_cdf, label='MaxInfo Solver (v1)')\n",
    "plt.scatter(list(range(len(step_v2_cdf))), step_v2_cdf, label='MaxInfo Solver (v2)')\n",
    "plt.scatter([1, 2, 3, 4, 5, 6], [0, 6/76, 30/76, 56/76, 70/76, 76/76], label='Human')\n",
    "plt.plot([6, 6], [0, 1], alpha=0.5, c='r', linestyle=':', label='<6 steps')\n",
    "plt.legend()"
   ]
  },
  {
   "cell_type": "code",
   "execution_count": null,
   "id": "2f89d958",
   "metadata": {},
   "outputs": [],
   "source": []
  }
 ],
 "metadata": {
  "kernelspec": {
   "display_name": "pytorch",
   "language": "python",
   "name": "pytorch"
  },
  "language_info": {
   "codemirror_mode": {
    "name": "ipython",
    "version": 3
   },
   "file_extension": ".py",
   "mimetype": "text/x-python",
   "name": "python",
   "nbconvert_exporter": "python",
   "pygments_lexer": "ipython3",
   "version": "3.7.9"
  }
 },
 "nbformat": 4,
 "nbformat_minor": 5
}
